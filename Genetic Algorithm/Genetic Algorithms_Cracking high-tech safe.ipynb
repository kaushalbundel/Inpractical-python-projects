{
 "cells": [
  {
   "cell_type": "markdown",
   "id": "640c399c-ad9b-4dcc-ba00-97d5782afbf4",
   "metadata": {},
   "source": [
    "# Cracking a high-tech safe"
   ]
  },
  {
   "cell_type": "markdown",
   "id": "2d6b92a6-feb3-465d-88a1-2a2a0b20e781",
   "metadata": {},
   "source": [
    "The objective of this exercise is to determine the code of the safe. Assuming the code for the safe is 6 digits, we can check the permutations of all possible combinations as the permutations are limited in number. \n",
    "This is a brute force method because we are checking all possible combinations of numbers and validating against the actual code, simulating entering the code in the locker and trying to open it. "
   ]
  },
  {
   "cell_type": "code",
   "execution_count": 45,
   "id": "72265e66-af83-4987-b87f-e82aad601767",
   "metadata": {},
   "outputs": [],
   "source": [
    "from itertools import permutations, product\n",
    "import time\n",
    "from random import randint, randrange"
   ]
  },
  {
   "cell_type": "code",
   "execution_count": 21,
   "id": "84e0b30f-b34a-4a00-b383-2b4a46f4ab59",
   "metadata": {},
   "outputs": [
    {
     "name": "stdout",
     "output_type": "stream",
     "text": [
      "[('apple', 'banana', 'mango'), ('apple', 'mango', 'banana'), ('banana', 'apple', 'mango'), ('banana', 'mango', 'apple'), ('mango', 'apple', 'banana'), ('mango', 'banana', 'apple')]\n",
      "[(1, 2, 3), (1, 3, 2), (2, 1, 3), (2, 3, 1), (3, 1, 2), (3, 2, 1)]\n"
     ]
    }
   ],
   "source": [
    "#checking how permutations work\n",
    "\n",
    "fruits=['apple','banana','mango']\n",
    "numbers=[1,2,3]\n",
    "print(list(permutations(fruits)))\n",
    "print(list(permutations(numbers)))"
   ]
  },
  {
   "cell_type": "markdown",
   "id": "fb112427-4e1d-4cf8-9c6b-5a353fb2320f",
   "metadata": {},
   "source": [
    "As we can see if we go by the permutations function it will give only the unique sets. If we need to get non-unique terms, then we need to use product function "
   ]
  },
  {
   "cell_type": "code",
   "execution_count": 19,
   "id": "b91aa56c-db25-47cc-9f47-27ed4052c8e7",
   "metadata": {},
   "outputs": [
    {
     "data": {
      "text/plain": [
       "[(5, 5),\n",
       " (5, 6),\n",
       " (5, 7),\n",
       " (5, 8),\n",
       " (6, 5),\n",
       " (6, 6),\n",
       " (6, 7),\n",
       " (6, 8),\n",
       " (7, 5),\n",
       " (7, 6),\n",
       " (7, 7),\n",
       " (7, 8),\n",
       " (8, 5),\n",
       " (8, 6),\n",
       " (8, 7),\n",
       " (8, 8)]"
      ]
     },
     "execution_count": 19,
     "metadata": {},
     "output_type": "execute_result"
    }
   ],
   "source": [
    "numbers1=[5,6,7,8]\n",
    "list(product(numbers1, repeat=2))"
   ]
  },
  {
   "cell_type": "markdown",
   "id": "22cf1693-6e31-47ce-8f04-10d17367a368",
   "metadata": {},
   "source": [
    "The product function combines the element which are mentioned in the list and produces a list where numbers are repeated twice. Similarly to this example the repeatition can also be extended to many repeated digits. "
   ]
  },
  {
   "cell_type": "markdown",
   "id": "51b269a1-8a06-473e-bd59-cf7e8ddc32be",
   "metadata": {},
   "source": [
    "### Code breaking using Brute Force method"
   ]
  },
  {
   "cell_type": "code",
   "execution_count": 35,
   "id": "ec1b279a-bc61-4eef-a9bb-feb8cbe89387",
   "metadata": {},
   "outputs": [
    {
     "name": "stdout",
     "output_type": "stream",
     "text": [
      "The code is (4, 3, 2, 5, 1)\n",
      "The total runtime of the code is: 0.021130084991455078 seconds\n"
     ]
    }
   ],
   "source": [
    "\n",
    "code = (4,3,2,5,1) #assumption\n",
    "number_list=[1,2,3,4,5,6,7,8,9,0]\n",
    "start_time=time.time()\n",
    "for i in product(number_list, repeat=len(code)):\n",
    "    if i == code:\n",
    "        print(f\"The code is {i}\")\n",
    "\n",
    "end_time=time.time()\n",
    "print(f\"The total runtime of the code is: {end_time-start_time} seconds\")"
   ]
  },
  {
   "cell_type": "markdown",
   "id": "d2702900-5162-4e2c-8024-d9c98dd52dcb",
   "metadata": {},
   "source": [
    "PS: The result of the product is a tuple of different combinations. Earlier I had assumed the code to be a list, and since I was comparing a list to a tuple the correct result was not getting displayed. This was resolved by changing the code to a tuple."
   ]
  },
  {
   "cell_type": "markdown",
   "id": "64033e1a-5884-41f8-9d78-8a7ccf2fa184",
   "metadata": {},
   "source": [
    "The time taken to compute the code depends on the len(code) part, ie. the higher the combinations that we have to test the more time it will take. Also, the growth in time will be exponential. To reduce the time period, we can use Genetic algorithms."
   ]
  },
  {
   "cell_type": "code",
   "execution_count": 47,
   "id": "84433490-be80-4caa-b7ff-2df691e3e7f5",
   "metadata": {},
   "outputs": [],
   "source": [
    "def fitness(combo, attempt):\n",
    "    \"\"\"Finding how close in the attempted combination to the actual combination.\n",
    "    Result comes in the number of positions which are same in the combo and in the attempt.\"\"\"\n",
    "    grade=0\n",
    "    for i, j in zip(combo, attempt):\n",
    "        if i == j:\n",
    "            grade += 1\n",
    "    return grade"
   ]
  },
  {
   "cell_type": "code",
   "execution_count": 53,
   "id": "09eeb080-64d7-4ebb-8883-609b52cbb15b",
   "metadata": {},
   "outputs": [
    {
     "data": {
      "text/plain": [
       "1"
      ]
     },
     "execution_count": 53,
     "metadata": {},
     "output_type": "execute_result"
    }
   ],
   "source": [
    "Combo=[1,2,3,4,5]\n",
    "Attempt=[1,9,9]\n",
    "fitness(Combo,Attempt)"
   ]
  },
  {
   "cell_type": "code",
   "execution_count": 65,
   "id": "593152c6-b3df-48ce-b9d8-077883c56d0a",
   "metadata": {},
   "outputs": [
    {
     "data": {
      "text/plain": [
       "7"
      ]
     },
     "execution_count": 65,
     "metadata": {},
     "output_type": "execute_result"
    }
   ],
   "source": [
    "randint(1,9)"
   ]
  },
  {
   "cell_type": "code",
   "execution_count": 105,
   "id": "09d86367-7773-4a44-be83-da45fa1e228f",
   "metadata": {},
   "outputs": [],
   "source": [
    "combination=[6,8,9,7,3,4,5,0,0,1]\n",
    "def main():\n",
    "    \"\"\"uses hill-climbing algorithm to crack locked codes. Similar to genetic algorithms\"\"\"\n",
    "    best_attempt=[0] * len(combination)\n",
    "    best_attempt_grade=fitness(combination, best_attempt)\n",
    "    count=0\n",
    "    \n",
    "    #guess\n",
    "    while best_attempt != combination:\n",
    "        next_attempt= best_attempt[:]\n",
    "        \n",
    "        #mutate\n",
    "        lock_wheel= randrange(0,len(combination))\n",
    "        next_attempt[lock_wheel]=randrange(0,10)\n",
    "        \n",
    "        #grading and selection\n",
    "        next_attempt_grade = fitness(combination, next_attempt)\n",
    "        if next_attempt_grade > best_attempt_grade:\n",
    "            best_attempt=next_attempt[:]\n",
    "            best_attempt_grade=next_attempt_grade\n",
    "        print(f\"The count number is {count}\")\n",
    "        print(next_attempt, best_attempt)\n",
    "        count+=1\n",
    "    print(\"\\n\")    \n",
    "    print(f\"Cracked {best_attempt}\")\n",
    "    print(f\"The count of tries is {count}\")"
   ]
  },
  {
   "cell_type": "code",
   "execution_count": 106,
   "id": "8284287e-912d-4623-8d84-ff3f8f94e395",
   "metadata": {},
   "outputs": [
    {
     "name": "stdout",
     "output_type": "stream",
     "text": [
      "The count number is 0\n",
      "[0, 0, 0, 0, 0, 0, 0, 0, 3, 0] [0, 0, 0, 0, 0, 0, 0, 0, 0, 0]\n",
      "The count number is 1\n",
      "[0, 0, 0, 0, 0, 0, 0, 3, 0, 0] [0, 0, 0, 0, 0, 0, 0, 0, 0, 0]\n",
      "The count number is 2\n",
      "[0, 0, 3, 0, 0, 0, 0, 0, 0, 0] [0, 0, 0, 0, 0, 0, 0, 0, 0, 0]\n",
      "The count number is 3\n",
      "[0, 7, 0, 0, 0, 0, 0, 0, 0, 0] [0, 0, 0, 0, 0, 0, 0, 0, 0, 0]\n",
      "The count number is 4\n",
      "[0, 0, 0, 0, 0, 0, 0, 5, 0, 0] [0, 0, 0, 0, 0, 0, 0, 0, 0, 0]\n",
      "The count number is 5\n",
      "[0, 0, 0, 0, 0, 0, 0, 6, 0, 0] [0, 0, 0, 0, 0, 0, 0, 0, 0, 0]\n",
      "The count number is 6\n",
      "[0, 0, 0, 2, 0, 0, 0, 0, 0, 0] [0, 0, 0, 0, 0, 0, 0, 0, 0, 0]\n",
      "The count number is 7\n",
      "[0, 0, 0, 1, 0, 0, 0, 0, 0, 0] [0, 0, 0, 0, 0, 0, 0, 0, 0, 0]\n",
      "The count number is 8\n",
      "[1, 0, 0, 0, 0, 0, 0, 0, 0, 0] [0, 0, 0, 0, 0, 0, 0, 0, 0, 0]\n",
      "The count number is 9\n",
      "[0, 0, 1, 0, 0, 0, 0, 0, 0, 0] [0, 0, 0, 0, 0, 0, 0, 0, 0, 0]\n",
      "The count number is 10\n",
      "[0, 0, 0, 0, 0, 0, 6, 0, 0, 0] [0, 0, 0, 0, 0, 0, 0, 0, 0, 0]\n",
      "The count number is 11\n",
      "[0, 1, 0, 0, 0, 0, 0, 0, 0, 0] [0, 0, 0, 0, 0, 0, 0, 0, 0, 0]\n",
      "The count number is 12\n",
      "[0, 0, 0, 0, 0, 7, 0, 0, 0, 0] [0, 0, 0, 0, 0, 0, 0, 0, 0, 0]\n",
      "The count number is 13\n",
      "[0, 0, 0, 0, 0, 0, 3, 0, 0, 0] [0, 0, 0, 0, 0, 0, 0, 0, 0, 0]\n",
      "The count number is 14\n",
      "[0, 0, 0, 0, 0, 0, 0, 0, 0, 5] [0, 0, 0, 0, 0, 0, 0, 0, 0, 0]\n",
      "The count number is 15\n",
      "[0, 0, 0, 0, 0, 0, 0, 0, 2, 0] [0, 0, 0, 0, 0, 0, 0, 0, 0, 0]\n",
      "The count number is 16\n",
      "[7, 0, 0, 0, 0, 0, 0, 0, 0, 0] [0, 0, 0, 0, 0, 0, 0, 0, 0, 0]\n",
      "The count number is 17\n",
      "[0, 0, 0, 0, 0, 0, 0, 0, 4, 0] [0, 0, 0, 0, 0, 0, 0, 0, 0, 0]\n",
      "The count number is 18\n",
      "[0, 0, 0, 0, 0, 0, 0, 4, 0, 0] [0, 0, 0, 0, 0, 0, 0, 0, 0, 0]\n",
      "The count number is 19\n",
      "[0, 0, 0, 0, 0, 0, 9, 0, 0, 0] [0, 0, 0, 0, 0, 0, 0, 0, 0, 0]\n",
      "The count number is 20\n",
      "[0, 0, 0, 0, 0, 0, 0, 0, 0, 9] [0, 0, 0, 0, 0, 0, 0, 0, 0, 0]\n",
      "The count number is 21\n",
      "[0, 0, 7, 0, 0, 0, 0, 0, 0, 0] [0, 0, 0, 0, 0, 0, 0, 0, 0, 0]\n",
      "The count number is 22\n",
      "[0, 4, 0, 0, 0, 0, 0, 0, 0, 0] [0, 0, 0, 0, 0, 0, 0, 0, 0, 0]\n",
      "The count number is 23\n",
      "[0, 0, 0, 0, 0, 0, 1, 0, 0, 0] [0, 0, 0, 0, 0, 0, 0, 0, 0, 0]\n",
      "The count number is 24\n",
      "[0, 0, 0, 0, 0, 0, 0, 3, 0, 0] [0, 0, 0, 0, 0, 0, 0, 0, 0, 0]\n",
      "The count number is 25\n",
      "[0, 0, 0, 0, 0, 0, 4, 0, 0, 0] [0, 0, 0, 0, 0, 0, 0, 0, 0, 0]\n",
      "The count number is 26\n",
      "[0, 0, 0, 0, 0, 4, 0, 0, 0, 0] [0, 0, 0, 0, 0, 4, 0, 0, 0, 0]\n",
      "The count number is 27\n",
      "[0, 0, 0, 0, 0, 4, 0, 3, 0, 0] [0, 0, 0, 0, 0, 4, 0, 0, 0, 0]\n",
      "The count number is 28\n",
      "[0, 0, 0, 7, 0, 4, 0, 0, 0, 0] [0, 0, 0, 7, 0, 4, 0, 0, 0, 0]\n",
      "The count number is 29\n",
      "[0, 0, 0, 7, 0, 4, 1, 0, 0, 0] [0, 0, 0, 7, 0, 4, 0, 0, 0, 0]\n",
      "The count number is 30\n",
      "[0, 0, 0, 7, 0, 4, 0, 0, 0, 1] [0, 0, 0, 7, 0, 4, 0, 0, 0, 1]\n",
      "The count number is 31\n",
      "[0, 0, 0, 7, 0, 5, 0, 0, 0, 1] [0, 0, 0, 7, 0, 4, 0, 0, 0, 1]\n",
      "The count number is 32\n",
      "[0, 0, 0, 7, 0, 4, 0, 0, 3, 1] [0, 0, 0, 7, 0, 4, 0, 0, 0, 1]\n",
      "The count number is 33\n",
      "[0, 0, 0, 7, 0, 4, 0, 0, 0, 1] [0, 0, 0, 7, 0, 4, 0, 0, 0, 1]\n",
      "The count number is 34\n",
      "[0, 2, 0, 7, 0, 4, 0, 0, 0, 1] [0, 0, 0, 7, 0, 4, 0, 0, 0, 1]\n",
      "The count number is 35\n",
      "[0, 0, 8, 7, 0, 4, 0, 0, 0, 1] [0, 0, 0, 7, 0, 4, 0, 0, 0, 1]\n",
      "The count number is 36\n",
      "[0, 0, 0, 7, 0, 4, 5, 0, 0, 1] [0, 0, 0, 7, 0, 4, 5, 0, 0, 1]\n",
      "The count number is 37\n",
      "[0, 0, 9, 7, 0, 4, 5, 0, 0, 1] [0, 0, 9, 7, 0, 4, 5, 0, 0, 1]\n",
      "The count number is 38\n",
      "[0, 0, 9, 7, 0, 4, 5, 0, 7, 1] [0, 0, 9, 7, 0, 4, 5, 0, 0, 1]\n",
      "The count number is 39\n",
      "[0, 0, 9, 7, 0, 4, 5, 0, 0, 6] [0, 0, 9, 7, 0, 4, 5, 0, 0, 1]\n",
      "The count number is 40\n",
      "[0, 0, 9, 7, 0, 9, 5, 0, 0, 1] [0, 0, 9, 7, 0, 4, 5, 0, 0, 1]\n",
      "The count number is 41\n",
      "[0, 0, 9, 0, 0, 4, 5, 0, 0, 1] [0, 0, 9, 7, 0, 4, 5, 0, 0, 1]\n",
      "The count number is 42\n",
      "[0, 0, 9, 7, 0, 4, 5, 1, 0, 1] [0, 0, 9, 7, 0, 4, 5, 0, 0, 1]\n",
      "The count number is 43\n",
      "[0, 0, 9, 7, 0, 4, 5, 0, 8, 1] [0, 0, 9, 7, 0, 4, 5, 0, 0, 1]\n",
      "The count number is 44\n",
      "[0, 0, 8, 7, 0, 4, 5, 0, 0, 1] [0, 0, 9, 7, 0, 4, 5, 0, 0, 1]\n",
      "The count number is 45\n",
      "[0, 0, 9, 7, 0, 4, 5, 8, 0, 1] [0, 0, 9, 7, 0, 4, 5, 0, 0, 1]\n",
      "The count number is 46\n",
      "[0, 0, 9, 7, 0, 1, 5, 0, 0, 1] [0, 0, 9, 7, 0, 4, 5, 0, 0, 1]\n",
      "The count number is 47\n",
      "[0, 0, 9, 7, 0, 4, 5, 0, 0, 0] [0, 0, 9, 7, 0, 4, 5, 0, 0, 1]\n",
      "The count number is 48\n",
      "[0, 0, 9, 7, 0, 4, 5, 0, 5, 1] [0, 0, 9, 7, 0, 4, 5, 0, 0, 1]\n",
      "The count number is 49\n",
      "[0, 0, 9, 5, 0, 4, 5, 0, 0, 1] [0, 0, 9, 7, 0, 4, 5, 0, 0, 1]\n",
      "The count number is 50\n",
      "[0, 0, 9, 4, 0, 4, 5, 0, 0, 1] [0, 0, 9, 7, 0, 4, 5, 0, 0, 1]\n",
      "The count number is 51\n",
      "[0, 3, 9, 7, 0, 4, 5, 0, 0, 1] [0, 0, 9, 7, 0, 4, 5, 0, 0, 1]\n",
      "The count number is 52\n",
      "[7, 0, 9, 7, 0, 4, 5, 0, 0, 1] [0, 0, 9, 7, 0, 4, 5, 0, 0, 1]\n",
      "The count number is 53\n",
      "[0, 0, 9, 7, 0, 0, 5, 0, 0, 1] [0, 0, 9, 7, 0, 4, 5, 0, 0, 1]\n",
      "The count number is 54\n",
      "[0, 0, 9, 7, 0, 4, 5, 0, 0, 5] [0, 0, 9, 7, 0, 4, 5, 0, 0, 1]\n",
      "The count number is 55\n",
      "[4, 0, 9, 7, 0, 4, 5, 0, 0, 1] [0, 0, 9, 7, 0, 4, 5, 0, 0, 1]\n",
      "The count number is 56\n",
      "[0, 0, 9, 7, 0, 8, 5, 0, 0, 1] [0, 0, 9, 7, 0, 4, 5, 0, 0, 1]\n",
      "The count number is 57\n",
      "[0, 0, 9, 8, 0, 4, 5, 0, 0, 1] [0, 0, 9, 7, 0, 4, 5, 0, 0, 1]\n",
      "The count number is 58\n",
      "[0, 0, 9, 7, 0, 4, 5, 0, 8, 1] [0, 0, 9, 7, 0, 4, 5, 0, 0, 1]\n",
      "The count number is 59\n",
      "[0, 0, 9, 3, 0, 4, 5, 0, 0, 1] [0, 0, 9, 7, 0, 4, 5, 0, 0, 1]\n",
      "The count number is 60\n",
      "[0, 0, 9, 7, 0, 4, 1, 0, 0, 1] [0, 0, 9, 7, 0, 4, 5, 0, 0, 1]\n",
      "The count number is 61\n",
      "[0, 2, 9, 7, 0, 4, 5, 0, 0, 1] [0, 0, 9, 7, 0, 4, 5, 0, 0, 1]\n",
      "The count number is 62\n",
      "[0, 5, 9, 7, 0, 4, 5, 0, 0, 1] [0, 0, 9, 7, 0, 4, 5, 0, 0, 1]\n",
      "The count number is 63\n",
      "[0, 0, 9, 7, 3, 4, 5, 0, 0, 1] [0, 0, 9, 7, 3, 4, 5, 0, 0, 1]\n",
      "The count number is 64\n",
      "[0, 0, 9, 7, 3, 4, 5, 0, 9, 1] [0, 0, 9, 7, 3, 4, 5, 0, 0, 1]\n",
      "The count number is 65\n",
      "[9, 0, 9, 7, 3, 4, 5, 0, 0, 1] [0, 0, 9, 7, 3, 4, 5, 0, 0, 1]\n",
      "The count number is 66\n",
      "[0, 9, 9, 7, 3, 4, 5, 0, 0, 1] [0, 0, 9, 7, 3, 4, 5, 0, 0, 1]\n",
      "The count number is 67\n",
      "[3, 0, 9, 7, 3, 4, 5, 0, 0, 1] [0, 0, 9, 7, 3, 4, 5, 0, 0, 1]\n",
      "The count number is 68\n",
      "[0, 0, 9, 7, 3, 4, 5, 0, 0, 1] [0, 0, 9, 7, 3, 4, 5, 0, 0, 1]\n",
      "The count number is 69\n",
      "[0, 0, 9, 7, 3, 4, 5, 4, 0, 1] [0, 0, 9, 7, 3, 4, 5, 0, 0, 1]\n",
      "The count number is 70\n",
      "[0, 0, 9, 7, 9, 4, 5, 0, 0, 1] [0, 0, 9, 7, 3, 4, 5, 0, 0, 1]\n",
      "The count number is 71\n",
      "[0, 0, 9, 7, 3, 4, 5, 0, 2, 1] [0, 0, 9, 7, 3, 4, 5, 0, 0, 1]\n",
      "The count number is 72\n",
      "[0, 0, 9, 7, 3, 4, 5, 6, 0, 1] [0, 0, 9, 7, 3, 4, 5, 0, 0, 1]\n",
      "The count number is 73\n",
      "[0, 0, 9, 7, 3, 4, 5, 0, 7, 1] [0, 0, 9, 7, 3, 4, 5, 0, 0, 1]\n",
      "The count number is 74\n",
      "[0, 0, 7, 7, 3, 4, 5, 0, 0, 1] [0, 0, 9, 7, 3, 4, 5, 0, 0, 1]\n",
      "The count number is 75\n",
      "[7, 0, 9, 7, 3, 4, 5, 0, 0, 1] [0, 0, 9, 7, 3, 4, 5, 0, 0, 1]\n",
      "The count number is 76\n",
      "[0, 0, 9, 7, 3, 4, 5, 9, 0, 1] [0, 0, 9, 7, 3, 4, 5, 0, 0, 1]\n",
      "The count number is 77\n",
      "[0, 0, 9, 7, 5, 4, 5, 0, 0, 1] [0, 0, 9, 7, 3, 4, 5, 0, 0, 1]\n",
      "The count number is 78\n",
      "[2, 0, 9, 7, 3, 4, 5, 0, 0, 1] [0, 0, 9, 7, 3, 4, 5, 0, 0, 1]\n",
      "The count number is 79\n",
      "[5, 0, 9, 7, 3, 4, 5, 0, 0, 1] [0, 0, 9, 7, 3, 4, 5, 0, 0, 1]\n",
      "The count number is 80\n",
      "[0, 0, 9, 7, 3, 4, 5, 0, 0, 1] [0, 0, 9, 7, 3, 4, 5, 0, 0, 1]\n",
      "The count number is 81\n",
      "[0, 0, 9, 7, 5, 4, 5, 0, 0, 1] [0, 0, 9, 7, 3, 4, 5, 0, 0, 1]\n",
      "The count number is 82\n",
      "[0, 0, 9, 7, 3, 2, 5, 0, 0, 1] [0, 0, 9, 7, 3, 4, 5, 0, 0, 1]\n",
      "The count number is 83\n",
      "[0, 0, 7, 7, 3, 4, 5, 0, 0, 1] [0, 0, 9, 7, 3, 4, 5, 0, 0, 1]\n",
      "The count number is 84\n",
      "[0, 0, 9, 7, 0, 4, 5, 0, 0, 1] [0, 0, 9, 7, 3, 4, 5, 0, 0, 1]\n",
      "The count number is 85\n",
      "[1, 0, 9, 7, 3, 4, 5, 0, 0, 1] [0, 0, 9, 7, 3, 4, 5, 0, 0, 1]\n",
      "The count number is 86\n",
      "[0, 0, 9, 7, 6, 4, 5, 0, 0, 1] [0, 0, 9, 7, 3, 4, 5, 0, 0, 1]\n",
      "The count number is 87\n",
      "[0, 2, 9, 7, 3, 4, 5, 0, 0, 1] [0, 0, 9, 7, 3, 4, 5, 0, 0, 1]\n",
      "The count number is 88\n",
      "[0, 0, 9, 7, 3, 4, 7, 0, 0, 1] [0, 0, 9, 7, 3, 4, 5, 0, 0, 1]\n",
      "The count number is 89\n",
      "[0, 0, 9, 7, 0, 4, 5, 0, 0, 1] [0, 0, 9, 7, 3, 4, 5, 0, 0, 1]\n",
      "The count number is 90\n",
      "[0, 0, 9, 7, 3, 4, 5, 0, 1, 1] [0, 0, 9, 7, 3, 4, 5, 0, 0, 1]\n",
      "The count number is 91\n",
      "[0, 0, 9, 7, 3, 4, 5, 0, 7, 1] [0, 0, 9, 7, 3, 4, 5, 0, 0, 1]\n",
      "The count number is 92\n",
      "[0, 0, 9, 7, 3, 4, 5, 0, 0, 1] [0, 0, 9, 7, 3, 4, 5, 0, 0, 1]\n",
      "The count number is 93\n",
      "[0, 0, 9, 7, 0, 4, 5, 0, 0, 1] [0, 0, 9, 7, 3, 4, 5, 0, 0, 1]\n",
      "The count number is 94\n",
      "[8, 0, 9, 7, 3, 4, 5, 0, 0, 1] [0, 0, 9, 7, 3, 4, 5, 0, 0, 1]\n",
      "The count number is 95\n",
      "[0, 0, 9, 7, 3, 4, 5, 0, 0, 0] [0, 0, 9, 7, 3, 4, 5, 0, 0, 1]\n",
      "The count number is 96\n",
      "[0, 0, 9, 7, 3, 4, 5, 0, 0, 9] [0, 0, 9, 7, 3, 4, 5, 0, 0, 1]\n",
      "The count number is 97\n",
      "[0, 0, 9, 7, 3, 4, 5, 0, 0, 4] [0, 0, 9, 7, 3, 4, 5, 0, 0, 1]\n",
      "The count number is 98\n",
      "[0, 0, 9, 7, 3, 8, 5, 0, 0, 1] [0, 0, 9, 7, 3, 4, 5, 0, 0, 1]\n",
      "The count number is 99\n",
      "[9, 0, 9, 7, 3, 4, 5, 0, 0, 1] [0, 0, 9, 7, 3, 4, 5, 0, 0, 1]\n",
      "The count number is 100\n",
      "[2, 0, 9, 7, 3, 4, 5, 0, 0, 1] [0, 0, 9, 7, 3, 4, 5, 0, 0, 1]\n",
      "The count number is 101\n",
      "[0, 0, 9, 4, 3, 4, 5, 0, 0, 1] [0, 0, 9, 7, 3, 4, 5, 0, 0, 1]\n",
      "The count number is 102\n",
      "[0, 0, 9, 7, 3, 4, 5, 0, 0, 9] [0, 0, 9, 7, 3, 4, 5, 0, 0, 1]\n",
      "The count number is 103\n",
      "[0, 0, 9, 7, 3, 4, 5, 2, 0, 1] [0, 0, 9, 7, 3, 4, 5, 0, 0, 1]\n",
      "The count number is 104\n",
      "[7, 0, 9, 7, 3, 4, 5, 0, 0, 1] [0, 0, 9, 7, 3, 4, 5, 0, 0, 1]\n",
      "The count number is 105\n",
      "[0, 0, 9, 7, 0, 4, 5, 0, 0, 1] [0, 0, 9, 7, 3, 4, 5, 0, 0, 1]\n",
      "The count number is 106\n",
      "[0, 0, 9, 7, 3, 4, 0, 0, 0, 1] [0, 0, 9, 7, 3, 4, 5, 0, 0, 1]\n",
      "The count number is 107\n",
      "[0, 0, 9, 7, 3, 9, 5, 0, 0, 1] [0, 0, 9, 7, 3, 4, 5, 0, 0, 1]\n",
      "The count number is 108\n",
      "[0, 0, 9, 7, 3, 4, 5, 0, 8, 1] [0, 0, 9, 7, 3, 4, 5, 0, 0, 1]\n",
      "The count number is 109\n",
      "[0, 0, 9, 7, 3, 4, 5, 3, 0, 1] [0, 0, 9, 7, 3, 4, 5, 0, 0, 1]\n",
      "The count number is 110\n",
      "[0, 0, 9, 7, 3, 4, 5, 0, 0, 2] [0, 0, 9, 7, 3, 4, 5, 0, 0, 1]\n",
      "The count number is 111\n",
      "[0, 3, 9, 7, 3, 4, 5, 0, 0, 1] [0, 0, 9, 7, 3, 4, 5, 0, 0, 1]\n",
      "The count number is 112\n",
      "[0, 0, 9, 7, 3, 4, 3, 0, 0, 1] [0, 0, 9, 7, 3, 4, 5, 0, 0, 1]\n",
      "The count number is 113\n",
      "[0, 0, 9, 7, 3, 4, 5, 0, 0, 1] [0, 0, 9, 7, 3, 4, 5, 0, 0, 1]\n",
      "The count number is 114\n",
      "[0, 0, 9, 7, 3, 4, 5, 0, 0, 1] [0, 0, 9, 7, 3, 4, 5, 0, 0, 1]\n",
      "The count number is 115\n",
      "[0, 0, 3, 7, 3, 4, 5, 0, 0, 1] [0, 0, 9, 7, 3, 4, 5, 0, 0, 1]\n",
      "The count number is 116\n",
      "[0, 0, 9, 0, 3, 4, 5, 0, 0, 1] [0, 0, 9, 7, 3, 4, 5, 0, 0, 1]\n",
      "The count number is 117\n",
      "[0, 0, 9, 7, 3, 7, 5, 0, 0, 1] [0, 0, 9, 7, 3, 4, 5, 0, 0, 1]\n",
      "The count number is 118\n",
      "[0, 0, 9, 7, 3, 1, 5, 0, 0, 1] [0, 0, 9, 7, 3, 4, 5, 0, 0, 1]\n",
      "The count number is 119\n",
      "[0, 0, 9, 7, 3, 4, 5, 0, 8, 1] [0, 0, 9, 7, 3, 4, 5, 0, 0, 1]\n",
      "The count number is 120\n",
      "[5, 0, 9, 7, 3, 4, 5, 0, 0, 1] [0, 0, 9, 7, 3, 4, 5, 0, 0, 1]\n",
      "The count number is 121\n",
      "[0, 0, 9, 7, 3, 4, 5, 0, 0, 1] [0, 0, 9, 7, 3, 4, 5, 0, 0, 1]\n",
      "The count number is 122\n",
      "[0, 0, 9, 7, 3, 4, 5, 4, 0, 1] [0, 0, 9, 7, 3, 4, 5, 0, 0, 1]\n",
      "The count number is 123\n",
      "[0, 0, 9, 7, 3, 4, 5, 0, 2, 1] [0, 0, 9, 7, 3, 4, 5, 0, 0, 1]\n",
      "The count number is 124\n",
      "[0, 0, 9, 7, 2, 4, 5, 0, 0, 1] [0, 0, 9, 7, 3, 4, 5, 0, 0, 1]\n",
      "The count number is 125\n",
      "[3, 0, 9, 7, 3, 4, 5, 0, 0, 1] [0, 0, 9, 7, 3, 4, 5, 0, 0, 1]\n",
      "The count number is 126\n",
      "[8, 0, 9, 7, 3, 4, 5, 0, 0, 1] [0, 0, 9, 7, 3, 4, 5, 0, 0, 1]\n",
      "The count number is 127\n",
      "[0, 0, 9, 8, 3, 4, 5, 0, 0, 1] [0, 0, 9, 7, 3, 4, 5, 0, 0, 1]\n",
      "The count number is 128\n",
      "[0, 0, 9, 7, 5, 4, 5, 0, 0, 1] [0, 0, 9, 7, 3, 4, 5, 0, 0, 1]\n",
      "The count number is 129\n",
      "[0, 4, 9, 7, 3, 4, 5, 0, 0, 1] [0, 0, 9, 7, 3, 4, 5, 0, 0, 1]\n",
      "The count number is 130\n",
      "[1, 0, 9, 7, 3, 4, 5, 0, 0, 1] [0, 0, 9, 7, 3, 4, 5, 0, 0, 1]\n",
      "The count number is 131\n",
      "[0, 0, 6, 7, 3, 4, 5, 0, 0, 1] [0, 0, 9, 7, 3, 4, 5, 0, 0, 1]\n",
      "The count number is 132\n",
      "[0, 0, 9, 7, 3, 4, 5, 1, 0, 1] [0, 0, 9, 7, 3, 4, 5, 0, 0, 1]\n",
      "The count number is 133\n",
      "[0, 0, 9, 9, 3, 4, 5, 0, 0, 1] [0, 0, 9, 7, 3, 4, 5, 0, 0, 1]\n",
      "The count number is 134\n",
      "[0, 0, 9, 7, 0, 4, 5, 0, 0, 1] [0, 0, 9, 7, 3, 4, 5, 0, 0, 1]\n",
      "The count number is 135\n",
      "[0, 0, 9, 7, 3, 4, 5, 5, 0, 1] [0, 0, 9, 7, 3, 4, 5, 0, 0, 1]\n",
      "The count number is 136\n",
      "[0, 0, 9, 7, 3, 4, 5, 0, 6, 1] [0, 0, 9, 7, 3, 4, 5, 0, 0, 1]\n",
      "The count number is 137\n",
      "[0, 4, 9, 7, 3, 4, 5, 0, 0, 1] [0, 0, 9, 7, 3, 4, 5, 0, 0, 1]\n",
      "The count number is 138\n",
      "[0, 0, 9, 7, 3, 4, 5, 0, 0, 1] [0, 0, 9, 7, 3, 4, 5, 0, 0, 1]\n",
      "The count number is 139\n",
      "[0, 9, 9, 7, 3, 4, 5, 0, 0, 1] [0, 0, 9, 7, 3, 4, 5, 0, 0, 1]\n",
      "The count number is 140\n",
      "[0, 0, 9, 7, 3, 4, 5, 3, 0, 1] [0, 0, 9, 7, 3, 4, 5, 0, 0, 1]\n",
      "The count number is 141\n",
      "[0, 0, 3, 7, 3, 4, 5, 0, 0, 1] [0, 0, 9, 7, 3, 4, 5, 0, 0, 1]\n",
      "The count number is 142\n",
      "[0, 0, 8, 7, 3, 4, 5, 0, 0, 1] [0, 0, 9, 7, 3, 4, 5, 0, 0, 1]\n",
      "The count number is 143\n",
      "[7, 0, 9, 7, 3, 4, 5, 0, 0, 1] [0, 0, 9, 7, 3, 4, 5, 0, 0, 1]\n",
      "The count number is 144\n",
      "[0, 1, 9, 7, 3, 4, 5, 0, 0, 1] [0, 0, 9, 7, 3, 4, 5, 0, 0, 1]\n",
      "The count number is 145\n",
      "[3, 0, 9, 7, 3, 4, 5, 0, 0, 1] [0, 0, 9, 7, 3, 4, 5, 0, 0, 1]\n",
      "The count number is 146\n",
      "[0, 0, 9, 7, 3, 3, 5, 0, 0, 1] [0, 0, 9, 7, 3, 4, 5, 0, 0, 1]\n",
      "The count number is 147\n",
      "[0, 3, 9, 7, 3, 4, 5, 0, 0, 1] [0, 0, 9, 7, 3, 4, 5, 0, 0, 1]\n",
      "The count number is 148\n",
      "[0, 0, 9, 7, 3, 4, 5, 0, 0, 1] [0, 0, 9, 7, 3, 4, 5, 0, 0, 1]\n",
      "The count number is 149\n",
      "[0, 0, 6, 7, 3, 4, 5, 0, 0, 1] [0, 0, 9, 7, 3, 4, 5, 0, 0, 1]\n",
      "The count number is 150\n",
      "[0, 0, 9, 7, 3, 4, 5, 0, 0, 0] [0, 0, 9, 7, 3, 4, 5, 0, 0, 1]\n",
      "The count number is 151\n",
      "[0, 0, 9, 7, 3, 4, 5, 0, 0, 6] [0, 0, 9, 7, 3, 4, 5, 0, 0, 1]\n",
      "The count number is 152\n",
      "[0, 0, 9, 7, 3, 4, 1, 0, 0, 1] [0, 0, 9, 7, 3, 4, 5, 0, 0, 1]\n",
      "The count number is 153\n",
      "[0, 0, 9, 7, 3, 3, 5, 0, 0, 1] [0, 0, 9, 7, 3, 4, 5, 0, 0, 1]\n",
      "The count number is 154\n",
      "[0, 0, 9, 7, 3, 4, 6, 0, 0, 1] [0, 0, 9, 7, 3, 4, 5, 0, 0, 1]\n",
      "The count number is 155\n",
      "[0, 0, 9, 7, 3, 8, 5, 0, 0, 1] [0, 0, 9, 7, 3, 4, 5, 0, 0, 1]\n",
      "The count number is 156\n",
      "[0, 0, 9, 3, 3, 4, 5, 0, 0, 1] [0, 0, 9, 7, 3, 4, 5, 0, 0, 1]\n",
      "The count number is 157\n",
      "[0, 0, 9, 1, 3, 4, 5, 0, 0, 1] [0, 0, 9, 7, 3, 4, 5, 0, 0, 1]\n",
      "The count number is 158\n",
      "[0, 9, 9, 7, 3, 4, 5, 0, 0, 1] [0, 0, 9, 7, 3, 4, 5, 0, 0, 1]\n",
      "The count number is 159\n",
      "[0, 0, 7, 7, 3, 4, 5, 0, 0, 1] [0, 0, 9, 7, 3, 4, 5, 0, 0, 1]\n",
      "The count number is 160\n",
      "[0, 0, 9, 7, 3, 4, 5, 0, 0, 1] [0, 0, 9, 7, 3, 4, 5, 0, 0, 1]\n",
      "The count number is 161\n",
      "[0, 0, 9, 5, 3, 4, 5, 0, 0, 1] [0, 0, 9, 7, 3, 4, 5, 0, 0, 1]\n",
      "The count number is 162\n",
      "[0, 0, 9, 7, 3, 4, 5, 0, 0, 0] [0, 0, 9, 7, 3, 4, 5, 0, 0, 1]\n",
      "The count number is 163\n",
      "[0, 0, 9, 7, 3, 4, 5, 0, 9, 1] [0, 0, 9, 7, 3, 4, 5, 0, 0, 1]\n",
      "The count number is 164\n",
      "[0, 0, 5, 7, 3, 4, 5, 0, 0, 1] [0, 0, 9, 7, 3, 4, 5, 0, 0, 1]\n",
      "The count number is 165\n",
      "[0, 8, 9, 7, 3, 4, 5, 0, 0, 1] [0, 8, 9, 7, 3, 4, 5, 0, 0, 1]\n",
      "The count number is 166\n",
      "[0, 8, 9, 7, 2, 4, 5, 0, 0, 1] [0, 8, 9, 7, 3, 4, 5, 0, 0, 1]\n",
      "The count number is 167\n",
      "[0, 8, 9, 7, 3, 4, 5, 0, 2, 1] [0, 8, 9, 7, 3, 4, 5, 0, 0, 1]\n",
      "The count number is 168\n",
      "[0, 8, 8, 7, 3, 4, 5, 0, 0, 1] [0, 8, 9, 7, 3, 4, 5, 0, 0, 1]\n",
      "The count number is 169\n",
      "[0, 8, 9, 7, 3, 4, 5, 8, 0, 1] [0, 8, 9, 7, 3, 4, 5, 0, 0, 1]\n",
      "The count number is 170\n",
      "[0, 8, 9, 7, 3, 4, 4, 0, 0, 1] [0, 8, 9, 7, 3, 4, 5, 0, 0, 1]\n",
      "The count number is 171\n",
      "[0, 8, 9, 7, 3, 4, 8, 0, 0, 1] [0, 8, 9, 7, 3, 4, 5, 0, 0, 1]\n",
      "The count number is 172\n",
      "[0, 8, 9, 8, 3, 4, 5, 0, 0, 1] [0, 8, 9, 7, 3, 4, 5, 0, 0, 1]\n",
      "The count number is 173\n",
      "[0, 8, 9, 7, 3, 8, 5, 0, 0, 1] [0, 8, 9, 7, 3, 4, 5, 0, 0, 1]\n",
      "The count number is 174\n",
      "[0, 8, 9, 9, 3, 4, 5, 0, 0, 1] [0, 8, 9, 7, 3, 4, 5, 0, 0, 1]\n",
      "The count number is 175\n",
      "[0, 8, 9, 7, 3, 4, 5, 0, 0, 1] [0, 8, 9, 7, 3, 4, 5, 0, 0, 1]\n",
      "The count number is 176\n",
      "[0, 8, 9, 7, 3, 7, 5, 0, 0, 1] [0, 8, 9, 7, 3, 4, 5, 0, 0, 1]\n",
      "The count number is 177\n",
      "[0, 8, 9, 7, 3, 6, 5, 0, 0, 1] [0, 8, 9, 7, 3, 4, 5, 0, 0, 1]\n",
      "The count number is 178\n",
      "[0, 8, 9, 7, 3, 4, 0, 0, 0, 1] [0, 8, 9, 7, 3, 4, 5, 0, 0, 1]\n",
      "The count number is 179\n",
      "[0, 8, 5, 7, 3, 4, 5, 0, 0, 1] [0, 8, 9, 7, 3, 4, 5, 0, 0, 1]\n",
      "The count number is 180\n",
      "[0, 8, 9, 7, 3, 2, 5, 0, 0, 1] [0, 8, 9, 7, 3, 4, 5, 0, 0, 1]\n",
      "The count number is 181\n",
      "[3, 8, 9, 7, 3, 4, 5, 0, 0, 1] [0, 8, 9, 7, 3, 4, 5, 0, 0, 1]\n",
      "The count number is 182\n",
      "[0, 8, 9, 8, 3, 4, 5, 0, 0, 1] [0, 8, 9, 7, 3, 4, 5, 0, 0, 1]\n",
      "The count number is 183\n",
      "[0, 8, 9, 7, 3, 4, 5, 3, 0, 1] [0, 8, 9, 7, 3, 4, 5, 0, 0, 1]\n",
      "The count number is 184\n",
      "[0, 8, 9, 7, 3, 4, 5, 0, 0, 1] [0, 8, 9, 7, 3, 4, 5, 0, 0, 1]\n",
      "The count number is 185\n",
      "[4, 8, 9, 7, 3, 4, 5, 0, 0, 1] [0, 8, 9, 7, 3, 4, 5, 0, 0, 1]\n",
      "The count number is 186\n",
      "[0, 8, 9, 7, 6, 4, 5, 0, 0, 1] [0, 8, 9, 7, 3, 4, 5, 0, 0, 1]\n",
      "The count number is 187\n",
      "[0, 8, 8, 7, 3, 4, 5, 0, 0, 1] [0, 8, 9, 7, 3, 4, 5, 0, 0, 1]\n",
      "The count number is 188\n",
      "[0, 8, 5, 7, 3, 4, 5, 0, 0, 1] [0, 8, 9, 7, 3, 4, 5, 0, 0, 1]\n",
      "The count number is 189\n",
      "[0, 8, 9, 7, 3, 5, 5, 0, 0, 1] [0, 8, 9, 7, 3, 4, 5, 0, 0, 1]\n",
      "The count number is 190\n",
      "[0, 8, 9, 0, 3, 4, 5, 0, 0, 1] [0, 8, 9, 7, 3, 4, 5, 0, 0, 1]\n",
      "The count number is 191\n",
      "[0, 8, 9, 7, 3, 4, 5, 0, 0, 8] [0, 8, 9, 7, 3, 4, 5, 0, 0, 1]\n",
      "The count number is 192\n",
      "[0, 8, 9, 7, 3, 4, 8, 0, 0, 1] [0, 8, 9, 7, 3, 4, 5, 0, 0, 1]\n",
      "The count number is 193\n",
      "[0, 8, 9, 7, 3, 4, 5, 0, 0, 1] [0, 8, 9, 7, 3, 4, 5, 0, 0, 1]\n",
      "The count number is 194\n",
      "[0, 8, 9, 7, 3, 4, 5, 0, 0, 1] [0, 8, 9, 7, 3, 4, 5, 0, 0, 1]\n",
      "The count number is 195\n",
      "[0, 8, 9, 7, 3, 4, 9, 0, 0, 1] [0, 8, 9, 7, 3, 4, 5, 0, 0, 1]\n",
      "The count number is 196\n",
      "[0, 8, 9, 7, 3, 4, 5, 0, 6, 1] [0, 8, 9, 7, 3, 4, 5, 0, 0, 1]\n",
      "The count number is 197\n",
      "[0, 8, 9, 7, 3, 4, 4, 0, 0, 1] [0, 8, 9, 7, 3, 4, 5, 0, 0, 1]\n",
      "The count number is 198\n",
      "[0, 0, 9, 7, 3, 4, 5, 0, 0, 1] [0, 8, 9, 7, 3, 4, 5, 0, 0, 1]\n",
      "The count number is 199\n",
      "[0, 8, 9, 7, 3, 4, 5, 1, 0, 1] [0, 8, 9, 7, 3, 4, 5, 0, 0, 1]\n",
      "The count number is 200\n",
      "[8, 8, 9, 7, 3, 4, 5, 0, 0, 1] [0, 8, 9, 7, 3, 4, 5, 0, 0, 1]\n",
      "The count number is 201\n",
      "[0, 8, 9, 7, 2, 4, 5, 0, 0, 1] [0, 8, 9, 7, 3, 4, 5, 0, 0, 1]\n",
      "The count number is 202\n",
      "[0, 4, 9, 7, 3, 4, 5, 0, 0, 1] [0, 8, 9, 7, 3, 4, 5, 0, 0, 1]\n",
      "The count number is 203\n",
      "[0, 8, 9, 7, 3, 4, 5, 0, 0, 1] [0, 8, 9, 7, 3, 4, 5, 0, 0, 1]\n",
      "The count number is 204\n",
      "[0, 8, 9, 7, 9, 4, 5, 0, 0, 1] [0, 8, 9, 7, 3, 4, 5, 0, 0, 1]\n",
      "The count number is 205\n",
      "[0, 8, 9, 7, 3, 4, 2, 0, 0, 1] [0, 8, 9, 7, 3, 4, 5, 0, 0, 1]\n",
      "The count number is 206\n",
      "[0, 8, 5, 7, 3, 4, 5, 0, 0, 1] [0, 8, 9, 7, 3, 4, 5, 0, 0, 1]\n",
      "The count number is 207\n",
      "[0, 8, 9, 7, 3, 4, 5, 0, 0, 1] [0, 8, 9, 7, 3, 4, 5, 0, 0, 1]\n",
      "The count number is 208\n",
      "[0, 8, 9, 7, 9, 4, 5, 0, 0, 1] [0, 8, 9, 7, 3, 4, 5, 0, 0, 1]\n",
      "The count number is 209\n",
      "[0, 1, 9, 7, 3, 4, 5, 0, 0, 1] [0, 8, 9, 7, 3, 4, 5, 0, 0, 1]\n",
      "The count number is 210\n",
      "[0, 8, 9, 7, 3, 4, 5, 0, 0, 4] [0, 8, 9, 7, 3, 4, 5, 0, 0, 1]\n",
      "The count number is 211\n",
      "[0, 8, 9, 7, 3, 1, 5, 0, 0, 1] [0, 8, 9, 7, 3, 4, 5, 0, 0, 1]\n",
      "The count number is 212\n",
      "[0, 8, 9, 7, 3, 6, 5, 0, 0, 1] [0, 8, 9, 7, 3, 4, 5, 0, 0, 1]\n",
      "The count number is 213\n",
      "[0, 8, 9, 7, 3, 4, 5, 0, 0, 2] [0, 8, 9, 7, 3, 4, 5, 0, 0, 1]\n",
      "The count number is 214\n",
      "[0, 0, 9, 7, 3, 4, 5, 0, 0, 1] [0, 8, 9, 7, 3, 4, 5, 0, 0, 1]\n",
      "The count number is 215\n",
      "[0, 8, 9, 7, 3, 4, 5, 3, 0, 1] [0, 8, 9, 7, 3, 4, 5, 0, 0, 1]\n",
      "The count number is 216\n",
      "[0, 8, 9, 7, 3, 5, 5, 0, 0, 1] [0, 8, 9, 7, 3, 4, 5, 0, 0, 1]\n",
      "The count number is 217\n",
      "[0, 8, 1, 7, 3, 4, 5, 0, 0, 1] [0, 8, 9, 7, 3, 4, 5, 0, 0, 1]\n",
      "The count number is 218\n",
      "[6, 8, 9, 7, 3, 4, 5, 0, 0, 1] [6, 8, 9, 7, 3, 4, 5, 0, 0, 1]\n",
      "\n",
      "\n",
      "Cracked [6, 8, 9, 7, 3, 4, 5, 0, 0, 1]\n",
      "The count of tries is 219\n",
      "Program runtime 0.0065119266510009766\n"
     ]
    }
   ],
   "source": [
    "if __name__==\"__main__\":\n",
    "    start_time=time.time()\n",
    "    main()\n",
    "    end_time=time.time()\n",
    "    print(f\"Program runtime {end_time-start_time}\")"
   ]
  },
  {
   "cell_type": "markdown",
   "id": "bb693631-e644-49ca-a7b8-503215bd9a79",
   "metadata": {},
   "source": [
    "PS: There is a clear distinction between slice equating and simple equating. While we do a simple equate the object is copied in the memory ie. ie the same memory location is pointed. This enables a change in one if another is changed."
   ]
  },
  {
   "cell_type": "code",
   "execution_count": 98,
   "id": "d7a26c06-549e-4745-891b-0a1df0691114",
   "metadata": {},
   "outputs": [
    {
     "name": "stdout",
     "output_type": "stream",
     "text": [
      "the id of a is: 4428834816\n",
      "the id of c is: 4428834816\n"
     ]
    }
   ],
   "source": [
    "a = [1,2,3]\n",
    "b=[4,5]\n",
    "c=a\n",
    "print(f\"the id of a is: {id(a)}\")\n",
    "print(f\"the id of c is: {id(c)}\")"
   ]
  },
  {
   "cell_type": "code",
   "execution_count": 102,
   "id": "f3562fc9-f118-46bf-bf45-2a0fa8630c3f",
   "metadata": {},
   "outputs": [
    {
     "name": "stdout",
     "output_type": "stream",
     "text": [
      "The value of a is [9, 2, 3]\n",
      "The value of c is [9, 2, 3]\n",
      "the id of a is: 4428834816\n",
      "the id of c is: 4428834816\n"
     ]
    }
   ],
   "source": [
    "a[0] = 9\n",
    "print(f\"The value of a is {a}\")\n",
    "print(f\"The value of c is {c}\")\n",
    "print(f\"the id of a is: {id(a)}\")\n",
    "print(f\"the id of c is: {id(c)}\")"
   ]
  },
  {
   "cell_type": "markdown",
   "id": "81cb8809-8d0e-49eb-bbc0-024bb2061320",
   "metadata": {},
   "source": [
    "We can see that the values are same for both a and c and so is their memory id."
   ]
  },
  {
   "cell_type": "code",
   "execution_count": 103,
   "id": "0e7f83a8-0802-4b60-88b4-0fcbc8d0ee64",
   "metadata": {},
   "outputs": [
    {
     "name": "stdout",
     "output_type": "stream",
     "text": [
      "The value of d is [1, 2, 3]\n",
      "The value of f is [1, 2, 3]\n",
      "the id of d is: 4428760448\n",
      "the id of f is: 4421122240\n"
     ]
    }
   ],
   "source": [
    "#using the : operator to equate\n",
    "d = [1,2,3]\n",
    "f = d[:]\n",
    "print(f\"The value of d is {d}\")\n",
    "print(f\"The value of f is {f}\")\n",
    "print(f\"the id of d is: {id(d)}\")\n",
    "print(f\"the id of f is: {id(f)}\")\n"
   ]
  },
  {
   "cell_type": "markdown",
   "id": "99c11076-e42d-4b26-82f4-7df37f71e163",
   "metadata": {},
   "source": [
    "The same value is present in both of these cases but the id is different."
   ]
  },
  {
   "cell_type": "code",
   "execution_count": 104,
   "id": "141b245a-e2b8-40ab-9a25-2b436d4e99c0",
   "metadata": {},
   "outputs": [
    {
     "name": "stdout",
     "output_type": "stream",
     "text": [
      "The value of d is [1, 20, 3]\n",
      "The value of f is [1, 2, 3]\n",
      "the id of d is: 4428760448\n",
      "the id of f is: 4421122240\n"
     ]
    }
   ],
   "source": [
    "d[1] = 20\n",
    "print(f\"The value of d is {d}\")\n",
    "print(f\"The value of f is {f}\")\n",
    "print(f\"the id of d is: {id(d)}\")\n",
    "print(f\"the id of f is: {id(f)}\")\n"
   ]
  },
  {
   "cell_type": "markdown",
   "id": "f35db19a-472c-4dd0-8edd-c2b008c3cab4",
   "metadata": {},
   "source": [
    "Since the id of d and f is different, hence the change in d is not reflected in f.\n",
    "The similar type of copying can also be done using copy module. copy module has copy which works as a equate feature and a deepcopy function that works as the slice function."
   ]
  },
  {
   "cell_type": "code",
   "execution_count": null,
   "id": "dbe494a5-33fa-4d3c-a73b-39d9f2305283",
   "metadata": {},
   "outputs": [],
   "source": []
  }
 ],
 "metadata": {
  "kernelspec": {
   "display_name": "Python 3 (ipykernel)",
   "language": "python",
   "name": "python3"
  },
  "language_info": {
   "codemirror_mode": {
    "name": "ipython",
    "version": 3
   },
   "file_extension": ".py",
   "mimetype": "text/x-python",
   "name": "python",
   "nbconvert_exporter": "python",
   "pygments_lexer": "ipython3",
   "version": "3.9.13"
  }
 },
 "nbformat": 4,
 "nbformat_minor": 5
}
