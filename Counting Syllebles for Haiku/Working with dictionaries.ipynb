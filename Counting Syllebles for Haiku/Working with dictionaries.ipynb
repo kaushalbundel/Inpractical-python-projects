{
 "cells": [
  {
   "cell_type": "markdown",
   "id": "9b88e220-570a-4ad4-abde-e0c879c2af59",
   "metadata": {},
   "source": [
    "Understanding Dictionaries:https://www.freecodecamp.org/news/python-dictionary-methods-dictionaries-in-python/ \n",
    "\n",
    "Understanding Hash tables: https://realpython.com/python-hash-table/"
   ]
  },
  {
   "cell_type": "markdown",
   "id": "06c63aed-2e8e-470f-9f4f-b31df9fd7923",
   "metadata": {},
   "source": [
    "# Understanding Dictionaries\n",
    "\n"
   ]
  },
  {
   "cell_type": "code",
   "execution_count": 5,
   "id": "f2330d0c-8df2-4b66-befd-d85f6990a872",
   "metadata": {},
   "outputs": [],
   "source": [
    "#Creating a dictionary\n",
    "\n",
    "dict1={'key1':1, 'key2':\"Banana\", 'key3':[1,2,\"banana\"]} #the key needs to be specified in '' or \"\" and values can be of any type and should proceed with a colon : "
   ]
  },
  {
   "cell_type": "code",
   "execution_count": 6,
   "id": "8f10aa9c-55a5-4c0b-86ce-49779604fbcc",
   "metadata": {},
   "outputs": [
    {
     "data": {
      "text/plain": [
       "[1, 2, 'banana']"
      ]
     },
     "execution_count": 6,
     "metadata": {},
     "output_type": "execute_result"
    }
   ],
   "source": [
    "dict1['key3']"
   ]
  },
  {
   "cell_type": "code",
   "execution_count": 8,
   "id": "60c6d76f-559e-4d90-b155-fde9e783294e",
   "metadata": {},
   "outputs": [
    {
     "ename": "KeyError",
     "evalue": "'key4'",
     "output_type": "error",
     "traceback": [
      "\u001b[0;31m---------------------------------------------------------------------------\u001b[0m",
      "\u001b[0;31mKeyError\u001b[0m                                  Traceback (most recent call last)",
      "Input \u001b[0;32mIn [8]\u001b[0m, in \u001b[0;36m<cell line: 1>\u001b[0;34m()\u001b[0m\n\u001b[0;32m----> 1\u001b[0m \u001b[43mdict1\u001b[49m\u001b[43m[\u001b[49m\u001b[38;5;124;43m'\u001b[39;49m\u001b[38;5;124;43mkey4\u001b[39;49m\u001b[38;5;124;43m'\u001b[39;49m\u001b[43m]\u001b[49m\n",
      "\u001b[0;31mKeyError\u001b[0m: 'key4'"
     ]
    }
   ],
   "source": [
    "dict1['key4'] #if the key is not matching in a dictionary a key error is displayed"
   ]
  },
  {
   "cell_type": "code",
   "execution_count": 10,
   "id": "b2aa5f47-84dc-47fa-acc4-ff2c92deab87",
   "metadata": {},
   "outputs": [
    {
     "name": "stdout",
     "output_type": "stream",
     "text": [
      "{'key1': 1, 'key2': 'Banana', 'key3': [1, 2, 'banana']}\n"
     ]
    }
   ],
   "source": [
    "print(dict1) #printing all the values of a dictionary"
   ]
  },
  {
   "cell_type": "code",
   "execution_count": 18,
   "id": "59a86f3f-b75a-4c68-bf4e-b8f8e1a21327",
   "metadata": {},
   "outputs": [
    {
     "name": "stdout",
     "output_type": "stream",
     "text": [
      "The key is key1, The value is 1\n",
      "The key is key2, The value is Banana\n",
      "The key is key3, The value is [1, 2, 'banana']\n"
     ]
    }
   ],
   "source": [
    "for key in dict1:\n",
    "    print(f\"The key is {key}, The value is {dict1[key]}\") # this indicates that in using the list we have to use range to iterate over a list, while in a dictionary range is not needed"
   ]
  },
  {
   "cell_type": "code",
   "execution_count": 20,
   "id": "e434022c-bdac-4278-a13a-08938fa96eb2",
   "metadata": {},
   "outputs": [
    {
     "data": {
      "text/plain": [
       "3"
      ]
     },
     "execution_count": 20,
     "metadata": {},
     "output_type": "execute_result"
    }
   ],
   "source": [
    "len(dict1) #To determine the length of the dictionary"
   ]
  },
  {
   "cell_type": "code",
   "execution_count": 22,
   "id": "2edeed2a-5f2a-4159-89bf-463be419d11a",
   "metadata": {},
   "outputs": [
    {
     "name": "stdout",
     "output_type": "stream",
     "text": [
      "Help on built-in function hasattr in module builtins:\n",
      "\n",
      "hasattr(obj, name, /)\n",
      "    Return whether the object has an attribute with the given name.\n",
      "    \n",
      "    This is done by calling getattr(obj, name) and catching AttributeError.\n",
      "\n"
     ]
    }
   ],
   "source": [
    "help(hasattr)"
   ]
  },
  {
   "cell_type": "code",
   "execution_count": 24,
   "id": "8b54e4e4-fec2-49b4-9008-8d819d3a0d8f",
   "metadata": {},
   "outputs": [
    {
     "data": {
      "text/plain": [
       "True"
      ]
     },
     "execution_count": 24,
     "metadata": {},
     "output_type": "execute_result"
    }
   ],
   "source": [
    "hasattr(dict1, '__iter__') #this shows that the dictionary is iterable"
   ]
  },
  {
   "cell_type": "markdown",
   "id": "f231f153-07c9-4465-8821-69bb63813de1",
   "metadata": {},
   "source": [
    "## using get() method"
   ]
  },
  {
   "cell_type": "markdown",
   "id": "72c96288-db02-4821-b23d-153173353ddb",
   "metadata": {},
   "source": [
    "Get method is used to get the values of the dictionary using a key"
   ]
  },
  {
   "cell_type": "code",
   "execution_count": 26,
   "id": "de3d2eaf-da65-472e-9818-58203639d57e",
   "metadata": {},
   "outputs": [
    {
     "data": {
      "text/plain": [
       "(1, 'Banana')"
      ]
     },
     "execution_count": 26,
     "metadata": {},
     "output_type": "execute_result"
    }
   ],
   "source": [
    "dict1.get('key1'),dict1.get('key2')"
   ]
  },
  {
   "cell_type": "code",
   "execution_count": 37,
   "id": "bcd66585-8c3a-402c-b0d1-1f2876ab647b",
   "metadata": {},
   "outputs": [
    {
     "name": "stdout",
     "output_type": "stream",
     "text": [
      "The time taken to run the function is: 6.389617919921875e-05 secs\n"
     ]
    }
   ],
   "source": [
    "#timing the indexing way and the get way to test which one is faster\n",
    "\n",
    "import time\n",
    "\n",
    "st1=time.time()\n",
    "dict1.get('key1')\n",
    "et1=time.time()\n",
    "tg1=et1-st1\n",
    "print(f\"The time taken to run the function is: {et1-st1} secs\")\n"
   ]
  },
  {
   "cell_type": "code",
   "execution_count": 38,
   "id": "b5566721-7de5-40c9-a0ef-16ceed99bbc2",
   "metadata": {},
   "outputs": [
    {
     "name": "stdout",
     "output_type": "stream",
     "text": [
      "The time taken to run the function is: 7.104873657226562e-05\n"
     ]
    }
   ],
   "source": [
    "st2=time.time()\n",
    "dict1['key1']\n",
    "et2=time.time()\n",
    "tg2=et2-st2\n",
    "print(f\"The time taken to run the function is: {et2-st2}\")"
   ]
  },
  {
   "cell_type": "code",
   "execution_count": 39,
   "id": "67071fa6-c136-40a8-b6bd-cf305e5d217c",
   "metadata": {},
   "outputs": [
    {
     "name": "stdout",
     "output_type": "stream",
     "text": [
      "Get is faster\n"
     ]
    }
   ],
   "source": [
    "if tg1<tg2:\n",
    "    print(\"Get is faster\")\n",
    "else:\n",
    "    print(\"Slicing is faster\")"
   ]
  },
  {
   "cell_type": "markdown",
   "id": "f5523499-5b05-4fb8-abb8-e8b2ea5c3c61",
   "metadata": {},
   "source": [
    "This goes to show that get is a faster method and should be used in place of the slicing method"
   ]
  },
  {
   "cell_type": "markdown",
   "id": "bb769705-27cb-459e-af94-e1ce23f3a830",
   "metadata": {},
   "source": [
    "## Using item function"
   ]
  },
  {
   "cell_type": "markdown",
   "id": "d905ede0-3d67-4d03-8ff2-4fb0bff937b9",
   "metadata": {},
   "source": [
    "The item method shows all the key value pairs in the dictionary."
   ]
  },
  {
   "cell_type": "code",
   "execution_count": 40,
   "id": "05e77863-dade-4d56-bd45-063048bddb91",
   "metadata": {},
   "outputs": [
    {
     "data": {
      "text/plain": [
       "dict_items([('key1', 1), ('key2', 'Banana'), ('key3', [1, 2, 'banana'])])"
      ]
     },
     "execution_count": 40,
     "metadata": {},
     "output_type": "execute_result"
    }
   ],
   "source": [
    "dict1.items()"
   ]
  },
  {
   "cell_type": "markdown",
   "id": "d77f1392-473e-4305-a806-66ca44adb0db",
   "metadata": {},
   "source": [
    "This is similar to the manner in which we have used for loop in getting to know the key value pairs. But this method is much faster to implement than the for loop."
   ]
  },
  {
   "cell_type": "markdown",
   "id": "79503289-15da-47db-b7a4-59b540038a9b",
   "metadata": {},
   "source": [
    "## Using the keys and values method to check the keys and values present in the dictionary"
   ]
  },
  {
   "cell_type": "code",
   "execution_count": 43,
   "id": "9e893fdd-0c0e-4782-8532-d9df4201984f",
   "metadata": {},
   "outputs": [
    {
     "data": {
      "text/plain": [
       "dict_keys(['key1', 'key2', 'key3'])"
      ]
     },
     "execution_count": 43,
     "metadata": {},
     "output_type": "execute_result"
    }
   ],
   "source": [
    "dict1.keys()"
   ]
  },
  {
   "cell_type": "code",
   "execution_count": 44,
   "id": "bde555f5-d23f-455e-bff7-e05b4b289719",
   "metadata": {},
   "outputs": [
    {
     "data": {
      "text/plain": [
       "dict_values([1, 'Banana', [1, 2, 'banana']])"
      ]
     },
     "execution_count": 44,
     "metadata": {},
     "output_type": "execute_result"
    }
   ],
   "source": [
    "dict1.values()"
   ]
  },
  {
   "cell_type": "code",
   "execution_count": 45,
   "id": "02597d26-132f-459b-ab9e-40ac5af6b9b5",
   "metadata": {},
   "outputs": [
    {
     "data": {
      "text/plain": [
       "dict_keys"
      ]
     },
     "execution_count": 45,
     "metadata": {},
     "output_type": "execute_result"
    }
   ],
   "source": [
    "type(dict1.keys())"
   ]
  },
  {
   "cell_type": "code",
   "execution_count": 47,
   "id": "99296e12-7c3f-4d83-baeb-b5a182b38642",
   "metadata": {},
   "outputs": [
    {
     "ename": "TypeError",
     "evalue": "dict.keys() takes no arguments (1 given)",
     "output_type": "error",
     "traceback": [
      "\u001b[0;31m---------------------------------------------------------------------------\u001b[0m",
      "\u001b[0;31mTypeError\u001b[0m                                 Traceback (most recent call last)",
      "Input \u001b[0;32mIn [47]\u001b[0m, in \u001b[0;36m<cell line: 1>\u001b[0;34m()\u001b[0m\n\u001b[0;32m----> 1\u001b[0m \u001b[43mdict1\u001b[49m\u001b[38;5;241;43m.\u001b[39;49m\u001b[43mkeys\u001b[49m\u001b[43m(\u001b[49m\u001b[38;5;124;43m'\u001b[39;49m\u001b[38;5;124;43mkey2\u001b[39;49m\u001b[38;5;124;43m'\u001b[39;49m\u001b[43m)\u001b[49m\n",
      "\u001b[0;31mTypeError\u001b[0m: dict.keys() takes no arguments (1 given)"
     ]
    }
   ],
   "source": [
    "dict1.keys('key2') #this will not work as the method keys takes only one argument"
   ]
  },
  {
   "cell_type": "markdown",
   "id": "d5f4c764-efb7-4a0b-8593-78d0c2318add",
   "metadata": {},
   "source": [
    "## To remove the keys-values from the dictionary"
   ]
  },
  {
   "cell_type": "code",
   "execution_count": 48,
   "id": "43afce85-bf8d-4bd1-adca-476502412f41",
   "metadata": {},
   "outputs": [
    {
     "data": {
      "text/plain": [
       "'Banana'"
      ]
     },
     "execution_count": 48,
     "metadata": {},
     "output_type": "execute_result"
    }
   ],
   "source": [
    "dict1.pop('key2')"
   ]
  },
  {
   "cell_type": "code",
   "execution_count": 50,
   "id": "7117a618-2b1a-4062-8d58-ba3680f244ae",
   "metadata": {},
   "outputs": [
    {
     "data": {
      "text/plain": [
       "dict_items([('key1', 1), ('key3', [1, 2, 'banana'])])"
      ]
     },
     "execution_count": 50,
     "metadata": {},
     "output_type": "execute_result"
    }
   ],
   "source": [
    "dict1.items() # As we can see that the key2 has been removed and dict1 now contains just key1 and key3"
   ]
  },
  {
   "cell_type": "markdown",
   "id": "fd6dd719-8153-4d4c-b8c7-28f8a8e65ba6",
   "metadata": {},
   "source": [
    "## Adding an item in a dictionary"
   ]
  },
  {
   "cell_type": "code",
   "execution_count": 52,
   "id": "97eb040a-3726-4560-b688-322768386bf0",
   "metadata": {},
   "outputs": [],
   "source": [
    "dict1.update({'key2':\"potato\"})"
   ]
  },
  {
   "cell_type": "code",
   "execution_count": 53,
   "id": "4b23828b-1248-493e-8987-e73e205f7762",
   "metadata": {},
   "outputs": [
    {
     "data": {
      "text/plain": [
       "dict_items([('key1', 1), ('key3', [1, 2, 'banana']), ('key2', 'potato')])"
      ]
     },
     "execution_count": 53,
     "metadata": {},
     "output_type": "execute_result"
    }
   ],
   "source": [
    "dict1.items()"
   ]
  },
  {
   "cell_type": "markdown",
   "id": "afe6e5fc-69e0-4c73-a2bd-4e4ffe50bdb2",
   "metadata": {},
   "source": [
    "## Replacing a key value pair in a dictionary (Using dictionary comprehension)  "
   ]
  },
  {
   "cell_type": "code",
   "execution_count": 57,
   "id": "1e6347fc-c7fc-4983-b985-616190737a2e",
   "metadata": {},
   "outputs": [],
   "source": [
    "dict2={'key2':'pink'}"
   ]
  },
  {
   "cell_type": "code",
   "execution_count": 58,
   "id": "d66c376f-a51f-4f7c-9b67-2041bd4e34be",
   "metadata": {},
   "outputs": [
    {
     "data": {
      "text/plain": [
       "dict_items([('key2', 'pink')])"
      ]
     },
     "execution_count": 58,
     "metadata": {},
     "output_type": "execute_result"
    }
   ],
   "source": [
    "dict2.items()"
   ]
  },
  {
   "cell_type": "code",
   "execution_count": 59,
   "id": "fa731441-5718-4741-9a0a-c701c3f32f95",
   "metadata": {},
   "outputs": [],
   "source": [
    "dict3={key: dict2.get(key, dict1[key]) for key in dict1 }"
   ]
  },
  {
   "cell_type": "code",
   "execution_count": 61,
   "id": "a8c13653-6a26-4678-8dac-226af3857800",
   "metadata": {},
   "outputs": [
    {
     "data": {
      "text/plain": [
       "{'key1': 1, 'key3': [1, 2, 'banana'], 'key2': 'pink'}"
      ]
     },
     "execution_count": 61,
     "metadata": {},
     "output_type": "execute_result"
    }
   ],
   "source": [
    "dict3"
   ]
  },
  {
   "cell_type": "markdown",
   "id": "1e7168dd-9d40-463f-9b11-ab0071d62373",
   "metadata": {},
   "source": [
    "## Converting dictionary in dataframe"
   ]
  },
  {
   "cell_type": "code",
   "execution_count": 63,
   "id": "b639d251-56eb-49fb-bffb-1f48dcd97327",
   "metadata": {},
   "outputs": [],
   "source": [
    "import pandas as pd\n",
    "\n",
    "df=pd.DataFrame([dict1])"
   ]
  },
  {
   "cell_type": "code",
   "execution_count": 64,
   "id": "fb76ab72-d3d5-46bb-8892-ddc931232f8f",
   "metadata": {},
   "outputs": [
    {
     "data": {
      "text/html": [
       "<div>\n",
       "<style scoped>\n",
       "    .dataframe tbody tr th:only-of-type {\n",
       "        vertical-align: middle;\n",
       "    }\n",
       "\n",
       "    .dataframe tbody tr th {\n",
       "        vertical-align: top;\n",
       "    }\n",
       "\n",
       "    .dataframe thead th {\n",
       "        text-align: right;\n",
       "    }\n",
       "</style>\n",
       "<table border=\"1\" class=\"dataframe\">\n",
       "  <thead>\n",
       "    <tr style=\"text-align: right;\">\n",
       "      <th></th>\n",
       "      <th>key1</th>\n",
       "      <th>key3</th>\n",
       "      <th>key2</th>\n",
       "    </tr>\n",
       "  </thead>\n",
       "  <tbody>\n",
       "    <tr>\n",
       "      <th>0</th>\n",
       "      <td>1</td>\n",
       "      <td>[1, 2, banana]</td>\n",
       "      <td>potato</td>\n",
       "    </tr>\n",
       "  </tbody>\n",
       "</table>\n",
       "</div>"
      ],
      "text/plain": [
       "   key1            key3    key2\n",
       "0     1  [1, 2, banana]  potato"
      ]
     },
     "execution_count": 64,
     "metadata": {},
     "output_type": "execute_result"
    }
   ],
   "source": [
    "df"
   ]
  },
  {
   "cell_type": "code",
   "execution_count": null,
   "id": "35b88fa0-9651-4349-8b2c-9031053abb13",
   "metadata": {},
   "outputs": [],
   "source": []
  }
 ],
 "metadata": {
  "kernelspec": {
   "display_name": "Python 3 (ipykernel)",
   "language": "python",
   "name": "python3"
  },
  "language_info": {
   "codemirror_mode": {
    "name": "ipython",
    "version": 3
   },
   "file_extension": ".py",
   "mimetype": "text/x-python",
   "name": "python",
   "nbconvert_exporter": "python",
   "pygments_lexer": "ipython3",
   "version": "3.9.13"
  }
 },
 "nbformat": 4,
 "nbformat_minor": 5
}
